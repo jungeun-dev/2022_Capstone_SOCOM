{
  "nbformat": 4,
  "nbformat_minor": 0,
  "metadata": {
    "colab": {
      "name": "CorrectNews.ipynb",
      "provenance": [],
      "collapsed_sections": []
    },
    "kernelspec": {
      "name": "python3",
      "display_name": "Python 3"
    },
    "language_info": {
      "name": "python"
    }
  },
  "cells": [
    {
      "cell_type": "markdown",
      "source": [
        "### **F12 개발자도구 console에 입력**\n",
        "#### **하나의 cell은 최대 12시간까지만 실행 가능 + 90분 동안 사용자 움직임 없으면 멈춤**"
      ],
      "metadata": {
        "id": "bHNmMy4puMFr"
      }
    },
    {
      "cell_type": "code",
      "source": [
        "\"\"\"\n",
        "function ClickConnect() {\n",
        "  console.log(\"10분마다 자동 재연결\");\n",
        "  document.querySelector(\"colab-toolbar-button#connect\").click();\n",
        "}\n",
        "setInterval(ClickConnect,1000*60*10);\n",
        "\"\"\""
      ],
      "metadata": {
        "id": "MIxWO5HquNo1"
      },
      "execution_count": null,
      "outputs": []
    },
    {
      "cell_type": "markdown",
      "source": [
        "### **뉴스 & 댓글 텍스트를 교정하기 위한 라이브러리 설치**\n",
        "설치 후 런타임 다시 실행해야 하는 경우 존재\n",
        "\n",
        "#### soynlp\n",
        "https://github.com/lovit/soynlp\n",
        "#### PyKoSpacing\n",
        "https://github.com/haven-jeon/PyKoSpacing\n",
        "#### py-hanspell\n",
        "https://github.com/ssut/py-hanspell"
      ],
      "metadata": {
        "id": "aUY-KD5TyWvg"
      }
    },
    {
      "cell_type": "code",
      "execution_count": null,
      "metadata": {
        "colab": {
          "base_uri": "https://localhost:8080/"
        },
        "id": "5c_hLE89yToS",
        "outputId": "e68e0be9-452a-41fe-ba22-854c92cf1b03"
      },
      "outputs": [
        {
          "output_type": "stream",
          "name": "stdout",
          "text": [
            "Looking in indexes: https://pypi.org/simple, https://us-python.pkg.dev/colab-wheels/public/simple/\n",
            "Collecting soynlp\n",
            "  Downloading soynlp-0.0.493-py3-none-any.whl (416 kB)\n",
            "\u001b[K     |████████████████████████████████| 416 kB 6.7 MB/s \n",
            "\u001b[?25hRequirement already satisfied: psutil>=5.0.1 in /usr/local/lib/python3.7/dist-packages (from soynlp) (5.4.8)\n",
            "Requirement already satisfied: scipy>=1.1.0 in /usr/local/lib/python3.7/dist-packages (from soynlp) (1.4.1)\n",
            "Requirement already satisfied: numpy>=1.12.1 in /usr/local/lib/python3.7/dist-packages (from soynlp) (1.21.6)\n",
            "Requirement already satisfied: scikit-learn>=0.20.0 in /usr/local/lib/python3.7/dist-packages (from soynlp) (1.0.2)\n",
            "Requirement already satisfied: joblib>=0.11 in /usr/local/lib/python3.7/dist-packages (from scikit-learn>=0.20.0->soynlp) (1.1.0)\n",
            "Requirement already satisfied: threadpoolctl>=2.0.0 in /usr/local/lib/python3.7/dist-packages (from scikit-learn>=0.20.0->soynlp) (3.1.0)\n",
            "Installing collected packages: soynlp\n",
            "Successfully installed soynlp-0.0.493\n"
          ]
        }
      ],
      "source": [
        "!pip install soynlp"
      ]
    },
    {
      "cell_type": "code",
      "source": [
        "!pip install git+https://github.com/haven-jeon/PyKoSpacing.git"
      ],
      "metadata": {
        "colab": {
          "base_uri": "https://localhost:8080/"
        },
        "id": "7VRWzibTzAA9",
        "outputId": "8354e68a-70b1-45b2-a875-a60786d70589"
      },
      "execution_count": null,
      "outputs": [
        {
          "output_type": "stream",
          "name": "stdout",
          "text": [
            "Looking in indexes: https://pypi.org/simple, https://us-python.pkg.dev/colab-wheels/public/simple/\n",
            "Collecting git+https://github.com/haven-jeon/PyKoSpacing.git\n",
            "  Cloning https://github.com/haven-jeon/PyKoSpacing.git to /tmp/pip-req-build-u3jepulg\n",
            "  Running command git clone -q https://github.com/haven-jeon/PyKoSpacing.git /tmp/pip-req-build-u3jepulg\n",
            "Collecting tensorflow==2.6.4\n",
            "  Downloading https://us-python.pkg.dev/colab-wheels/public/tensorflow/tensorflow-2.6.4%2Bzzzcolab20220516125453-cp37-cp37m-linux_x86_64.whl\n",
            "\u001b[K     - 570.3 MB 61.2 MB/s\n",
            "\u001b[?25hRequirement already satisfied: h5py==3.1.0 in /usr/local/lib/python3.7/dist-packages (from pykospacing==0.5) (3.1.0)\n",
            "Collecting argparse>=1.4.0\n",
            "  Downloading argparse-1.4.0-py2.py3-none-any.whl (23 kB)\n",
            "Requirement already satisfied: cached-property in /usr/local/lib/python3.7/dist-packages (from h5py==3.1.0->pykospacing==0.5) (1.5.2)\n",
            "Requirement already satisfied: numpy>=1.14.5 in /usr/local/lib/python3.7/dist-packages (from h5py==3.1.0->pykospacing==0.5) (1.21.6)\n",
            "Collecting numpy>=1.14.5\n",
            "  Downloading numpy-1.19.5-cp37-cp37m-manylinux2010_x86_64.whl (14.8 MB)\n",
            "\u001b[K     |████████████████████████████████| 14.8 MB 7.7 MB/s \n",
            "\u001b[?25hCollecting clang~=5.0\n",
            "  Downloading clang-5.0.tar.gz (30 kB)\n",
            "Collecting keras<2.7,>=2.6.0\n",
            "  Downloading keras-2.6.0-py2.py3-none-any.whl (1.3 MB)\n",
            "\u001b[K     |████████████████████████████████| 1.3 MB 48.2 MB/s \n",
            "\u001b[?25hRequirement already satisfied: astunparse~=1.6.3 in /usr/local/lib/python3.7/dist-packages (from tensorflow==2.6.4->pykospacing==0.5) (1.6.3)\n",
            "Requirement already satisfied: termcolor~=1.1.0 in /usr/local/lib/python3.7/dist-packages (from tensorflow==2.6.4->pykospacing==0.5) (1.1.0)\n",
            "Requirement already satisfied: six~=1.15.0 in /usr/local/lib/python3.7/dist-packages (from tensorflow==2.6.4->pykospacing==0.5) (1.15.0)\n",
            "Requirement already satisfied: google-pasta~=0.2 in /usr/local/lib/python3.7/dist-packages (from tensorflow==2.6.4->pykospacing==0.5) (0.2.0)\n",
            "Requirement already satisfied: grpcio<2.0,>=1.37.0 in /usr/local/lib/python3.7/dist-packages (from tensorflow==2.6.4->pykospacing==0.5) (1.46.1)\n",
            "Requirement already satisfied: keras-preprocessing~=1.1.2 in /usr/local/lib/python3.7/dist-packages (from tensorflow==2.6.4->pykospacing==0.5) (1.1.2)\n",
            "Collecting absl-py~=0.10\n",
            "  Downloading absl_py-0.15.0-py3-none-any.whl (132 kB)\n",
            "\u001b[K     |████████████████████████████████| 132 kB 48.6 MB/s \n",
            "\u001b[?25hCollecting tensorflow-estimator<2.7,>=2.6.0\n",
            "  Downloading tensorflow_estimator-2.6.0-py2.py3-none-any.whl (462 kB)\n",
            "\u001b[K     |████████████████████████████████| 462 kB 58.0 MB/s \n",
            "\u001b[?25hCollecting typing-extensions<3.11,>=3.7\n",
            "  Downloading typing_extensions-3.10.0.2-py3-none-any.whl (26 kB)\n",
            "Requirement already satisfied: wheel~=0.35 in /usr/local/lib/python3.7/dist-packages (from tensorflow==2.6.4->pykospacing==0.5) (0.37.1)\n",
            "Collecting gast==0.4.0\n",
            "  Downloading gast-0.4.0-py3-none-any.whl (9.8 kB)\n",
            "Requirement already satisfied: opt-einsum~=3.3.0 in /usr/local/lib/python3.7/dist-packages (from tensorflow==2.6.4->pykospacing==0.5) (3.3.0)\n",
            "Requirement already satisfied: protobuf>=3.9.2 in /usr/local/lib/python3.7/dist-packages (from tensorflow==2.6.4->pykospacing==0.5) (3.17.3)\n",
            "Collecting wrapt~=1.12.1\n",
            "  Downloading wrapt-1.12.1.tar.gz (27 kB)\n",
            "Collecting tensorboard<2.7,>=2.6.0\n",
            "  Downloading tensorboard-2.6.0-py3-none-any.whl (5.6 MB)\n",
            "\u001b[K     |████████████████████████████████| 5.6 MB 25.3 MB/s \n",
            "\u001b[?25hCollecting flatbuffers~=1.12.0\n",
            "  Downloading flatbuffers-1.12-py2.py3-none-any.whl (15 kB)\n",
            "Requirement already satisfied: setuptools>=41.0.0 in /usr/local/lib/python3.7/dist-packages (from tensorboard<2.7,>=2.6.0->tensorflow==2.6.4->pykospacing==0.5) (57.4.0)\n",
            "Requirement already satisfied: tensorboard-plugin-wit>=1.6.0 in /usr/local/lib/python3.7/dist-packages (from tensorboard<2.7,>=2.6.0->tensorflow==2.6.4->pykospacing==0.5) (1.8.1)\n",
            "Requirement already satisfied: markdown>=2.6.8 in /usr/local/lib/python3.7/dist-packages (from tensorboard<2.7,>=2.6.0->tensorflow==2.6.4->pykospacing==0.5) (3.3.7)\n",
            "Requirement already satisfied: werkzeug>=0.11.15 in /usr/local/lib/python3.7/dist-packages (from tensorboard<2.7,>=2.6.0->tensorflow==2.6.4->pykospacing==0.5) (1.0.1)\n",
            "Requirement already satisfied: google-auth<2,>=1.6.3 in /usr/local/lib/python3.7/dist-packages (from tensorboard<2.7,>=2.6.0->tensorflow==2.6.4->pykospacing==0.5) (1.35.0)\n",
            "Requirement already satisfied: google-auth-oauthlib<0.5,>=0.4.1 in /usr/local/lib/python3.7/dist-packages (from tensorboard<2.7,>=2.6.0->tensorflow==2.6.4->pykospacing==0.5) (0.4.6)\n",
            "Requirement already satisfied: tensorboard-data-server<0.7.0,>=0.6.0 in /usr/local/lib/python3.7/dist-packages (from tensorboard<2.7,>=2.6.0->tensorflow==2.6.4->pykospacing==0.5) (0.6.1)\n",
            "Requirement already satisfied: requests<3,>=2.21.0 in /usr/local/lib/python3.7/dist-packages (from tensorboard<2.7,>=2.6.0->tensorflow==2.6.4->pykospacing==0.5) (2.23.0)\n",
            "Requirement already satisfied: pyasn1-modules>=0.2.1 in /usr/local/lib/python3.7/dist-packages (from google-auth<2,>=1.6.3->tensorboard<2.7,>=2.6.0->tensorflow==2.6.4->pykospacing==0.5) (0.2.8)\n",
            "Requirement already satisfied: rsa<5,>=3.1.4 in /usr/local/lib/python3.7/dist-packages (from google-auth<2,>=1.6.3->tensorboard<2.7,>=2.6.0->tensorflow==2.6.4->pykospacing==0.5) (4.8)\n",
            "Requirement already satisfied: cachetools<5.0,>=2.0.0 in /usr/local/lib/python3.7/dist-packages (from google-auth<2,>=1.6.3->tensorboard<2.7,>=2.6.0->tensorflow==2.6.4->pykospacing==0.5) (4.2.4)\n",
            "Requirement already satisfied: requests-oauthlib>=0.7.0 in /usr/local/lib/python3.7/dist-packages (from google-auth-oauthlib<0.5,>=0.4.1->tensorboard<2.7,>=2.6.0->tensorflow==2.6.4->pykospacing==0.5) (1.3.1)\n",
            "Requirement already satisfied: importlib-metadata>=4.4 in /usr/local/lib/python3.7/dist-packages (from markdown>=2.6.8->tensorboard<2.7,>=2.6.0->tensorflow==2.6.4->pykospacing==0.5) (4.11.3)\n",
            "Requirement already satisfied: zipp>=0.5 in /usr/local/lib/python3.7/dist-packages (from importlib-metadata>=4.4->markdown>=2.6.8->tensorboard<2.7,>=2.6.0->tensorflow==2.6.4->pykospacing==0.5) (3.8.0)\n",
            "Requirement already satisfied: pyasn1<0.5.0,>=0.4.6 in /usr/local/lib/python3.7/dist-packages (from pyasn1-modules>=0.2.1->google-auth<2,>=1.6.3->tensorboard<2.7,>=2.6.0->tensorflow==2.6.4->pykospacing==0.5) (0.4.8)\n",
            "Requirement already satisfied: urllib3!=1.25.0,!=1.25.1,<1.26,>=1.21.1 in /usr/local/lib/python3.7/dist-packages (from requests<3,>=2.21.0->tensorboard<2.7,>=2.6.0->tensorflow==2.6.4->pykospacing==0.5) (1.24.3)\n",
            "Requirement already satisfied: chardet<4,>=3.0.2 in /usr/local/lib/python3.7/dist-packages (from requests<3,>=2.21.0->tensorboard<2.7,>=2.6.0->tensorflow==2.6.4->pykospacing==0.5) (3.0.4)\n",
            "Requirement already satisfied: certifi>=2017.4.17 in /usr/local/lib/python3.7/dist-packages (from requests<3,>=2.21.0->tensorboard<2.7,>=2.6.0->tensorflow==2.6.4->pykospacing==0.5) (2022.5.18.1)\n",
            "Requirement already satisfied: idna<3,>=2.5 in /usr/local/lib/python3.7/dist-packages (from requests<3,>=2.21.0->tensorboard<2.7,>=2.6.0->tensorflow==2.6.4->pykospacing==0.5) (2.10)\n",
            "Requirement already satisfied: oauthlib>=3.0.0 in /usr/local/lib/python3.7/dist-packages (from requests-oauthlib>=0.7.0->google-auth-oauthlib<0.5,>=0.4.1->tensorboard<2.7,>=2.6.0->tensorflow==2.6.4->pykospacing==0.5) (3.2.0)\n",
            "Building wheels for collected packages: pykospacing, clang, wrapt\n",
            "  Building wheel for pykospacing (setup.py) ... \u001b[?25l\u001b[?25hdone\n",
            "  Created wheel for pykospacing: filename=pykospacing-0.5-py3-none-any.whl size=2268580 sha256=fd898cab788a66458ae68c98f6373aadbf157773c47c94abbbc9d6f439459e8f\n",
            "  Stored in directory: /tmp/pip-ephem-wheel-cache-we_6gfpn/wheels/9b/93/81/a2a7dc8c66ede5bf30634d20635f32b95eac7ca2ea8844058b\n",
            "  Building wheel for clang (setup.py) ... \u001b[?25l\u001b[?25hdone\n",
            "  Created wheel for clang: filename=clang-5.0-py3-none-any.whl size=30694 sha256=b6aa051faa9bacdd2f810294dee69d0bf4d0822e34157dc040dcd5b0d8382099\n",
            "  Stored in directory: /root/.cache/pip/wheels/98/91/04/971b4c587cf47ae952b108949b46926f426c02832d120a082a\n",
            "  Building wheel for wrapt (setup.py) ... \u001b[?25l\u001b[?25hdone\n",
            "  Created wheel for wrapt: filename=wrapt-1.12.1-cp37-cp37m-linux_x86_64.whl size=68719 sha256=49bb13d7f5512a5f137d6ed8d49884f2bfaf3a01bc93aa2d6d9e9fba52c7461b\n",
            "  Stored in directory: /root/.cache/pip/wheels/62/76/4c/aa25851149f3f6d9785f6c869387ad82b3fd37582fa8147ac6\n",
            "Successfully built pykospacing clang wrapt\n",
            "Installing collected packages: typing-extensions, numpy, absl-py, wrapt, tensorflow-estimator, tensorboard, keras, gast, flatbuffers, clang, tensorflow, argparse, pykospacing\n",
            "  Attempting uninstall: typing-extensions\n",
            "    Found existing installation: typing-extensions 4.2.0\n",
            "    Uninstalling typing-extensions-4.2.0:\n",
            "      Successfully uninstalled typing-extensions-4.2.0\n",
            "  Attempting uninstall: numpy\n",
            "    Found existing installation: numpy 1.21.6\n",
            "    Uninstalling numpy-1.21.6:\n",
            "      Successfully uninstalled numpy-1.21.6\n",
            "  Attempting uninstall: absl-py\n",
            "    Found existing installation: absl-py 1.0.0\n",
            "    Uninstalling absl-py-1.0.0:\n",
            "      Successfully uninstalled absl-py-1.0.0\n",
            "  Attempting uninstall: wrapt\n",
            "    Found existing installation: wrapt 1.14.1\n",
            "    Uninstalling wrapt-1.14.1:\n",
            "      Successfully uninstalled wrapt-1.14.1\n",
            "  Attempting uninstall: tensorflow-estimator\n",
            "    Found existing installation: tensorflow-estimator 2.8.0\n",
            "    Uninstalling tensorflow-estimator-2.8.0:\n",
            "      Successfully uninstalled tensorflow-estimator-2.8.0\n",
            "  Attempting uninstall: tensorboard\n",
            "    Found existing installation: tensorboard 2.8.0\n",
            "    Uninstalling tensorboard-2.8.0:\n",
            "      Successfully uninstalled tensorboard-2.8.0\n",
            "  Attempting uninstall: keras\n",
            "    Found existing installation: keras 2.8.0\n",
            "    Uninstalling keras-2.8.0:\n",
            "      Successfully uninstalled keras-2.8.0\n",
            "  Attempting uninstall: gast\n",
            "    Found existing installation: gast 0.5.3\n",
            "    Uninstalling gast-0.5.3:\n",
            "      Successfully uninstalled gast-0.5.3\n",
            "  Attempting uninstall: flatbuffers\n",
            "    Found existing installation: flatbuffers 2.0\n",
            "    Uninstalling flatbuffers-2.0:\n",
            "      Successfully uninstalled flatbuffers-2.0\n",
            "  Attempting uninstall: tensorflow\n",
            "    Found existing installation: tensorflow 2.8.0+zzzcolab20220506162203\n",
            "    Uninstalling tensorflow-2.8.0+zzzcolab20220506162203:\n",
            "      Successfully uninstalled tensorflow-2.8.0+zzzcolab20220506162203\n",
            "\u001b[31mERROR: pip's dependency resolver does not currently take into account all the packages that are installed. This behaviour is the source of the following dependency conflicts.\n",
            "xarray-einstats 0.2.2 requires numpy>=1.21, but you have numpy 1.19.5 which is incompatible.\n",
            "datascience 0.10.6 requires folium==0.2.1, but you have folium 0.8.3 which is incompatible.\n",
            "albumentations 0.1.12 requires imgaug<0.2.7,>=0.2.5, but you have imgaug 0.2.9 which is incompatible.\u001b[0m\n",
            "Successfully installed absl-py-0.15.0 argparse-1.4.0 clang-5.0 flatbuffers-1.12 gast-0.4.0 keras-2.6.0 numpy-1.19.5 pykospacing-0.5 tensorboard-2.6.0 tensorflow-2.6.4+zzzcolab20220516125453 tensorflow-estimator-2.6.0 typing-extensions-3.10.0.2 wrapt-1.12.1\n"
          ]
        },
        {
          "output_type": "display_data",
          "data": {
            "application/vnd.colab-display-data+json": {
              "pip_warning": {
                "packages": [
                  "argparse",
                  "numpy",
                  "typing_extensions"
                ]
              }
            }
          },
          "metadata": {}
        }
      ]
    },
    {
      "cell_type": "code",
      "source": [
        "!pip install git+https://github.com/ssut/py-hanspell.git"
      ],
      "metadata": {
        "colab": {
          "base_uri": "https://localhost:8080/"
        },
        "id": "fd5M0VfyzBMQ",
        "outputId": "e8253b3e-2926-41ad-9096-874930865f3a"
      },
      "execution_count": null,
      "outputs": [
        {
          "output_type": "stream",
          "name": "stdout",
          "text": [
            "Looking in indexes: https://pypi.org/simple, https://us-python.pkg.dev/colab-wheels/public/simple/\n",
            "Collecting git+https://github.com/ssut/py-hanspell.git\n",
            "  Cloning https://github.com/ssut/py-hanspell.git to /tmp/pip-req-build-s8lu50wn\n",
            "  Running command git clone -q https://github.com/ssut/py-hanspell.git /tmp/pip-req-build-s8lu50wn\n",
            "Requirement already satisfied: requests in /usr/local/lib/python3.7/dist-packages (from py-hanspell==1.1) (2.23.0)\n",
            "Requirement already satisfied: idna<3,>=2.5 in /usr/local/lib/python3.7/dist-packages (from requests->py-hanspell==1.1) (2.10)\n",
            "Requirement already satisfied: chardet<4,>=3.0.2 in /usr/local/lib/python3.7/dist-packages (from requests->py-hanspell==1.1) (3.0.4)\n",
            "Requirement already satisfied: certifi>=2017.4.17 in /usr/local/lib/python3.7/dist-packages (from requests->py-hanspell==1.1) (2022.5.18.1)\n",
            "Requirement already satisfied: urllib3!=1.25.0,!=1.25.1,<1.26,>=1.21.1 in /usr/local/lib/python3.7/dist-packages (from requests->py-hanspell==1.1) (1.24.3)\n",
            "Building wheels for collected packages: py-hanspell\n",
            "  Building wheel for py-hanspell (setup.py) ... \u001b[?25l\u001b[?25hdone\n",
            "  Created wheel for py-hanspell: filename=py_hanspell-1.1-py3-none-any.whl size=4868 sha256=65990fb1648af1122b437445ae197c3c89f6f59e06ecfbba6d6fd32788602337\n",
            "  Stored in directory: /tmp/pip-ephem-wheel-cache-veg0fbsj/wheels/ab/f5/7b/d4124bb329c905301baed80e2ae45aa14e824f62ebc3ec2cc4\n",
            "Successfully built py-hanspell\n",
            "Installing collected packages: py-hanspell\n",
            "Successfully installed py-hanspell-1.1\n"
          ]
        }
      ]
    },
    {
      "cell_type": "markdown",
      "source": [
        "### **클래스 정의 & 선언**"
      ],
      "metadata": {
        "id": "TE7WUF554tFJ"
      }
    },
    {
      "cell_type": "code",
      "source": [
        "import numpy as np\n",
        "import pandas as pd\n",
        "from soynlp.normalizer import *\n",
        "from pykospacing import Spacing\n",
        "from hanspell import spell_checker"
      ],
      "metadata": {
        "id": "rsPSKi7TzKf2"
      },
      "execution_count": null,
      "outputs": []
    },
    {
      "cell_type": "code",
      "source": [
        "class CorrectNews:\n",
        "  NewsDetail = pd.read_csv('./Raw/news.csv', header = None, encoding=\"utf-8\")\n",
        "  NewsDetail.columns = ['date','title','summary']\n",
        "  Comment = pd.DataFrame(columns = ['comment'])\n",
        "\n",
        "  NameList = ['20211227.csv','20211228.csv','20211229.csv','20211230.csv','20211231.csv']\n",
        " #'20211226.csv','20211227.csv','20211228.csv','20211229.csv','20211230.csv','20211231.csv'\n",
        " \n",
        "  len_news = 0\n",
        "  len_comment = 0\n",
        "\n",
        "  spacing = Spacing()\n",
        "\n",
        "  def initNews(self):\n",
        "    self.NewsDetail = self.NewsDetail.fillna(\"Null\")\n",
        "    self.len_news = len(self.NewsDetail)\n",
        "\n",
        "  def initComment(self, path):\n",
        "    tmp = pd.read_csv(path, header = None, encoding=\"utf-8\")\n",
        "    tmp.columns = ['comment']\n",
        "    self.Comment = tmp.fillna(\"Null\")\n",
        "    self.len_comment = len(self.Comment)\n",
        "\n",
        "  # 한글, 숫자, 영어, 문장부호만 남기고 삭제\n",
        "  def deleteSymbol(self, flag):\n",
        "    if flag == 'news':\n",
        "      for i in range(self.len_news):\n",
        "        tmp_date = self.NewsDetail['date'].iloc[i]\n",
        "        tmp_title = only_text(self.NewsDetail['title'].iloc[i])\n",
        "        tmp_summary = only_text(self.NewsDetail['summary'].iloc[i])\n",
        "        self.NewsDetail.loc[i] = [tmp_date, tmp_title, tmp_summary]\n",
        "    elif flag == 'comment':\n",
        "      for i in range(self.len_comment):\n",
        "        tmp_comment = only_text(self.Comment['comment'].iloc[i])\n",
        "        self.Comment.loc[i] = tmp_comment\n",
        "    else:\n",
        "      print(\"flag 입력 없음\")\n",
        "\n",
        "  # 띄어쓰기 교정\n",
        "  def correctSpacing(self, flag):\n",
        "    if flag == 'news':\n",
        "      for i in range(self.len_news):\n",
        "        tmp_date = self.NewsDetail['date'].iloc[i]\n",
        "        tmp_title = self.spacing(self.NewsDetail['title'].iloc[i])\n",
        "        tmp_summary = self.spacing(self.NewsDetail['summary'].iloc[i])\n",
        "        self.NewsDetail.loc[i] = [tmp_date, tmp_title, tmp_summary]\n",
        "    elif flag == 'comment':\n",
        "      for i in range(self.len_comment):\n",
        "        tmp_comment = self.spacing(self.Comment['comment'].iloc[i])\n",
        "        self.Comment.loc[i] = tmp_comment\n",
        "    else:\n",
        "      print(\"flag 입력 없음\")\n",
        "\n",
        "  # 맞춤법 교정\n",
        "  def correctSpelling(self, flag):\n",
        "    if flag == 'news':\n",
        "      for i in range(self.len_news):\n",
        "        print(i,\"번째\")\n",
        "        # date\n",
        "        tmp_date = self.NewsDetail['date'].iloc[i]\n",
        "        # title\n",
        "        tmp_str = self.NewsDetail['title'].iloc[i].encode(\"UTF-8\")\n",
        "        result = spell_checker.check(tmp_str)\n",
        "        tmp_title = result.checked\n",
        "        # summary\n",
        "        tmp_str = self.NewsDetail['summary'].iloc[i].encode(\"UTF-8\")\n",
        "        result = spell_checker.check(tmp_str)\n",
        "        tmp_summary = result.checked\n",
        "        self.NewsDetail.loc[i] = [tmp_date, tmp_title, tmp_summary]\n",
        "    elif flag == 'comment':\n",
        "      for i in range(self.len_comment):\n",
        "        print(i,\"번째\")\n",
        "        # comment\n",
        "        tmp_str = self.Comment['comment'].iloc[i].encode(\"UTF-8\")\n",
        "        result = spell_checker.check(tmp_str)\n",
        "        self.Comment.loc[i] = result.checked\n",
        "    else:\n",
        "      print(\"flag 입력 없음\")\n",
        "\n",
        "  # 반복되는 자모 제거\n",
        "  def deleteAlphabet(self, flag):\n",
        "    if flag == 'news':\n",
        "      for i in range(self.len_news):\n",
        "        tmp_date = self.NewsDetail['date'].iloc[i]\n",
        "        tmp_title = repeat_normalize(self.NewsDetail['title'].iloc[i], num_repeats = 2)\n",
        "        tmp_summary = repeat_normalize(self.NewsDetail['summary'].iloc[i], num_repeats = 2)\n",
        "        self.NewsDetail.loc[i] = [tmp_date, tmp_title, tmp_summary]\n",
        "    elif flag == 'comment':\n",
        "      for i in range(self.len_comment):\n",
        "        tmp_comment = repeat_normalize(self.Comment['comment'].iloc[i], num_repeats = 2)\n",
        "        self.Comment.loc[i] = tmp_comment\n",
        "    else:\n",
        "      print(\"flag 입력 없음\")\n",
        "\n",
        "  # news.csv 저장\n",
        "  def storeNews(self):\n",
        "    self.NewsDetail.to_csv('./Corrected/news.csv', header = None, index = False, encoding=\"utf-8-sig\")\n",
        "  # yyyymmdd.csv 저장\n",
        "  def storeComment(self, path):\n",
        "    self.Comment.to_csv(path, header = None, index = False, encoding=\"utf-8-sig\")"
      ],
      "metadata": {
        "id": "Vx-II_G31DqR"
      },
      "execution_count": null,
      "outputs": []
    },
    {
      "cell_type": "code",
      "source": [
        "cor = CorrectNews()"
      ],
      "metadata": {
        "id": "ZgP77PcfzWds"
      },
      "execution_count": null,
      "outputs": []
    },
    {
      "cell_type": "markdown",
      "source": [
        "### **뉴스 텍스트 교정**"
      ],
      "metadata": {
        "id": "qViQMkHI2fsV"
      }
    },
    {
      "cell_type": "code",
      "source": [
        "# 한글, 영어, 숫자, 문장부호만 남기고 삭제\n",
        "cor.initNews()\n",
        "print(cor.len_news)\n",
        "cor.deleteSymbol('news')\n",
        "cor.NewsDetail"
      ],
      "metadata": {
        "id": "qSgAYEd_AE32"
      },
      "execution_count": null,
      "outputs": []
    },
    {
      "cell_type": "code",
      "source": [
        "# 띄어쓰기 교정\n",
        "cor.correctSpacing('news')\n",
        "cor.NewsDetail"
      ],
      "metadata": {
        "id": "_dvVoRWaAOLM"
      },
      "execution_count": null,
      "outputs": []
    },
    {
      "cell_type": "code",
      "source": [
        "# 맞춤법 교정\n",
        "cor.correctSpelling('news')\n",
        "cor.NewsDetail"
      ],
      "metadata": {
        "id": "TWJWXKZgAWuz"
      },
      "execution_count": null,
      "outputs": []
    },
    {
      "cell_type": "code",
      "source": [
        "# 반복되는 자모 삭제\n",
        "cor.deleteAlphabet('news')\n",
        "cor.NewsDetail"
      ],
      "metadata": {
        "id": "SIS9dGyRAakp"
      },
      "execution_count": null,
      "outputs": []
    },
    {
      "cell_type": "markdown",
      "source": [
        "### **뉴스 텍스트 저장**"
      ],
      "metadata": {
        "id": "xiqGoB5-3S1C"
      }
    },
    {
      "cell_type": "code",
      "source": [
        "cor.storeNews()"
      ],
      "metadata": {
        "id": "-PdXZd3A3WXY"
      },
      "execution_count": null,
      "outputs": []
    },
    {
      "cell_type": "markdown",
      "source": [
        "### **댓글 텍스트 교정 & 저장**\n",
        "\n",
        "반복문 ver.\n",
        "\n",
        "```\n",
        "for path in cor.NameList:\n",
        "  print(path)\n",
        "  selected = './Raw/' + path   # load data\n",
        "  corrected = './Corrected/' + path # store data\n",
        "  cor.initComment(selected)\n",
        "  print(cor.len_comment)\n",
        "  cor.deleteSymbol('comment')\n",
        "  print(\"한글, 영어, 숫자, 문장부호만 남기고 삭제\")\n",
        "  cor.correctSpacing('comment')\n",
        "  print(\"띄어쓰기 교정\")\n",
        "  cor.correctSpelling('comment')\n",
        "  print(\"맞춤법 교정\")\n",
        "  cor.deleteAlphabet('comment')\n",
        "  print(\"반복되는 자모 삭제\")\n",
        "  cor.storeComment(corrected)\n",
        "  print(\"저장\")\n",
        "```"
      ],
      "metadata": {
        "id": "Q7zZWgJg2xMb"
      }
    },
    {
      "cell_type": "code",
      "source": [
        "path = '20211201.csv'\n",
        "print(path)\n",
        "selected = './Raw/' + path   # load data\n",
        "corrected = './Corrected/' + path # store data\n",
        "cor.initComment(selected)\n",
        "print(cor.len_comment)\n",
        "cor.deleteSymbol('comment')\n",
        "print(\"한글, 영어, 숫자, 문장부호만 남기고 삭제 완료\")\n",
        "cor.correctSpacing('comment')\n",
        "print(\"띄어쓰기 교정 완료\")\n",
        "cor.correctSpelling('comment')\n",
        "print(\"맞춤법 교정 완료\")\n",
        "cor.deleteAlphabet('comment')\n",
        "print(\"반복되는 자모 삭제 완료\")\n",
        "cor.storeComment(corrected)\n",
        "print(\"저장\")"
      ],
      "metadata": {
        "id": "qclf2o8w-bo4"
      },
      "execution_count": null,
      "outputs": []
    },
    {
      "cell_type": "markdown",
      "source": [
        "### **에러 발생**"
      ],
      "metadata": {
        "id": "Ps8RoQ5p53yi"
      }
    },
    {
      "cell_type": "code",
      "source": [
        "path = '20211227.csv'\n",
        "print(path)\n",
        "selected = './Raw/' + path   # load data\n",
        "corrected = './Corrected/' + path # store data\n",
        "cor.initComment(selected)\n",
        "print(cor.len_comment)"
      ],
      "metadata": {
        "colab": {
          "base_uri": "https://localhost:8080/"
        },
        "id": "X6X4it33mBde",
        "outputId": "935c00fe-f613-4da2-a053-7a6ce1fc208b"
      },
      "execution_count": null,
      "outputs": [
        {
          "output_type": "stream",
          "name": "stdout",
          "text": [
            "20211220-20083.csv\n",
            "120848\n"
          ]
        }
      ]
    },
    {
      "cell_type": "code",
      "source": [
        "# 댓글\n",
        "# 에러 발생했을 경우, 발생한 행부터 이어서 하기\n",
        "for i in range(115224, cor.len_comment):\n",
        "        print(i,\"번째\")\n",
        "        tmp_str = cor.Comment['comment'].iloc[i].encode(\"UTF-8\")\n",
        "        result = spell_checker.check(tmp_str)\n",
        "        cor.Comment.loc[i] = result.checked\n",
        "\n",
        "cor.deleteAlphabet('comment')\n",
        "print(\"반복되는 자모 삭제 완료\")\n",
        "cor.storeComment(corrected)\n",
        "print(\"저장\")"
      ],
      "metadata": {
        "id": "6VlcrIZ7eczy"
      },
      "execution_count": null,
      "outputs": []
    },
    {
      "cell_type": "code",
      "source": [
        "# 뉴스\n",
        "# 에러 발생했을 경우 이어서 하기\n",
        "for i in range(9524, cor.len_news):\n",
        "        print(i,\"번째\")\n",
        "        # date\n",
        "        tmp_date = cor.NewsDetail['date'].iloc[i]\n",
        "        # title\n",
        "        tmp_str = cor.NewsDetail['title'].iloc[i].encode(\"UTF-8\")\n",
        "        result = spell_checker.check(tmp_str)\n",
        "        tmp_title = result.checked\n",
        "         # summary\n",
        "        tmp_str = cor.NewsDetail['summary'].iloc[i].encode(\"UTF-8\")\n",
        "        result = spell_checker.check(tmp_str)\n",
        "        tmp_summary = result.checked\n",
        "        cor.NewsDetail.loc[i] = [tmp_date, tmp_title, tmp_summary]\n",
        "\n",
        "cor.deleteAlphabet('news')\n",
        "print(\"반복되는 자모 삭제 완료\")\n",
        "cor.storeNews(corrected)\n",
        "print(\"저장\")"
      ],
      "metadata": {
        "id": "dms5uz8_6RyK"
      },
      "execution_count": null,
      "outputs": []
    }
  ]
}